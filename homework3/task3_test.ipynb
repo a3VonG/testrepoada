{
 "cells": [
  {
   "cell_type": "code",
   "execution_count": null,
   "metadata": {
    "colab": {
     "autoexec": {
      "startup": false,
      "wait_interval": 0
     }
    },
    "colab_type": "code",
    "collapsed": true,
    "id": "1zoIAiYeFoqV"
   },
   "outputs": [],
   "source": [
    "import pandas as pd\n",
    "import numpy as np\n",
    "import os\n",
    "import matplotlib.pyplot as plt\n",
    "from scipy.stats import norm\n"
   ]
  },

  {
   "cell_type": "code",
   "execution_count": null,
   "metadata": {
    "colab": {
     "autoexec": {
      "startup": false,
      "wait_interval": 0
     },
     "base_uri": "https://localhost:8080/",
     "height": 201,
     "output_extras": [
      {
       "item_id": 1
      }
     ]
    },
    "colab_type": "code",
    "executionInfo": {
     "elapsed": 500,
     "status": "error",
     "timestamp": 1510063122625,
     "user": {
      "displayName": "Claas",
      "photoUrl": "https://lh3.googleusercontent.com/a/default-user=s128",
      "userId": "104094838751957293558"
     },
     "user_tz": -60
    },
    "id": "A54jiCptFoql",
    "outputId": "8ce2fc22-d354-4cab-e2c5-74ddf3827a03"
   },
   "outputs": [],
   "source": [
    "#from pygeocoder import geocoder\n",
    "import pycountry\n",
    "import folium\n",
    "import json"
   ]
  },

  {
   "cell_type": "code",
   "execution_count": null,
   "metadata": {
    "colab": {
     "autoexec": {
      "startup": false,
      "wait_interval": 0
     }
    },
    "colab_type": "code",
    "collapsed": true,
    "id": "N-IExAfjFoq0"
   },
   "outputs": [],
   "source": [
    "df=pd.DataFrame.from_csv('tsdec450.tsv', sep='\\t', header=0)"
   ]
  },
  {
   "cell_type": "code",
   "execution_count": null,
   "metadata": {
    "colab": {
     "autoexec": {
      "startup": false,
      "wait_interval": 0
     }
    },
    "colab_type": "code",
    "collapsed": true,
    "id": "_7_bs6p_Foq0"
   },
   "outputs": [],
   "source": [
    "#Create multi index for easy processing.\n",
    "df[\"age\"] = np.nan\n",
    "df[\"unit\"]=np.nan\n",
    "df[\"sex\"]=np.nan\n",
    "df[\"geo/time\"]=np.nan\n",
    "for i,indexStr in enumerate(df.index):\n",
    "    stringList=indexStr.split(',')\n",
    "    df.iloc[i, df.columns.get_loc('age')] = stringList[0]\n",
    "    df.iloc[i,df.columns.get_loc('unit')]=stringList[1]\n",
    "    df.iloc[i,df.columns.get_loc('sex')]=stringList[2]\n",
    "    df.iloc[i,df.columns.get_loc('geo/time')]=stringList[3]\n",
    "                \n",
    "df=df.set_index(['age', 'unit', 'sex','geo/time'])\n",
    "#Now select the needed latest data \n"
   ]
  },
  {
   "cell_type": "code",
   "execution_count": null,
   "metadata": {
    "colab": {
     "autoexec": {
      "startup": false,
      "wait_interval": 0
     }
    },
    "colab_type": "code",
    "id": "eELfLg02ForE"
   },
   "outputs": [],
   "source": [
    "#We want the data of the total age and the percentage of the active population of 2016\n",
    "countryDf=df.loc[('TOTAL', 'PC_ACT', 'T')][\"2016 \"].copy()\n",
    "\n",
    "#Dropping columns that do not correspond to a country\n",
    "countryDf.drop(['EA18','EA19','EU27','EU28'],inplace=True)\n",
    "\n",
    "#Greece is abbreviated as EL \n",
    "nameIndexes=[]\n",
    "\n",
    "for countryCode in countryDf.index:\n",
    "    if countryCode ==\"EL\":\n",
    "        countryCode=\"GR\"\n",
    "    if countryCode ==\"UK\":\n",
    "        countryCode=\"GB\"    \n",
    "    #nameIndexes.append(pycountry.countries.get(alpha_2=countryCode).name)\n",
    "    nameIndexes.append(countryCode)\n",
    "\n",
    "countrySeries=pd.Series(countryDf.values,nameIndexes)\n",
    "test=pd.Series.to_frame(countrySeries)\n",
    "test.reset_index(level=0, inplace=True)\n",
    "test.columns = ['ISO2', 'Unemployment']\n",
    "\n",
    "test\n"
   ]
  },
  {
   "cell_type": "code",
   "execution_count": null,
   "metadata": {
    "colab": {
     "autoexec": {
      "startup": false,
      "wait_interval": 0
     }
    },
    "colab_type": "code",
    "id": "CCbpE4ALForU"
   },
   "outputs": [],
   "source": [
    "#Plotting Distribution of the percentages\n",
    "\n",
    "h = test['Unemployment'].tolist()\n",
    "\n",
    "\n",
    "std = np.std(h) \n",
    "mean = np.mean(h)    \n",
    "plt.plot(norm.pdf(h,mean,std))\n",
    "plt.show()\n"
   ]
  },
  {
   "cell_type": "code",
   "execution_count": null,
   "metadata": {
    "colab": {
     "autoexec": {
      "startup": false,
      "wait_interval": 0
     }
    },
    "colab_type": "code",
    "id": "nieFpQxYForj"
   },
   "outputs": [],
   "source": [
    "#Checking the Keys of the geojson:\n",
    "from pprint import pprint\n",
    "\n",
    "json_data=open('europe.geojson')\n",
    "jdata = json.load(json_data)\n",
    "\n",
    "for key, value in jdata.items():\n",
    "    pprint(\"Key:\")\n",
    "    pprint(key)\n",
    "    \n",
    "    \n",
    "    \n",
    "print(jdata)"
   ]
  },
  {
   "cell_type": "code",
   "execution_count": null,
   "metadata": {
    "colab": {
     "autoexec": {
      "startup": false,
      "wait_interval": 0
     }
    },
    "colab_type": "code",
    "collapsed": true,
    "id": "X2PoIsYkForj"
   },
   "outputs": [],
   "source": [
    "#europe = 'map-of-europe-master\\TopoJSON\\europe.topojson'\n",
    "europe = os.path.join('data', 'europe.geojson')\n",
    "\n",
    "#folium.TopoJson(open(europe),'objects.europe',name='topojson').add_to(m)"
   ]
  },
  {
   "cell_type": "code",
   "execution_count": null,
   "metadata": {
    "colab": {
     "autoexec": {
      "startup": false,
      "wait_interval": 0
     }
    },
    "colab_type": "code",
    "collapsed": true,
    "id": "x6fG8g8HForz"
   },
   "outputs": [],
   "source": [
    "#Choropleth\n",
    "m = folium.Map(location=[46.519962, 6.633597], zoom_start=3)\n",
    "geo_json_data = json.load(open('europe.geojson'))\n",
    "\n",
    "m.choropleth(\n",
    "    geo_data=geo_json_data,\n",
    "    name='choropleth',\n",
    "    data=test,\n",
    "    columns=['ISO2', 'Unemployment'],\n",
    "    key_on='feature.properties.ISO2',\n",
    "    #threshold_scale = [0,1,2,3,4,5,6,7,8,9,10,11,12,13,14,15,16,17,18,19,20,21,22,23,24],\n",
    "    fill_color= 'BuGn',\n",
    "    fill_opacity=0.7,\n",
    "    line_opacity=0.2,\n",
    "    legend_name='Unemployment Rate (%)'\n",
    ")\n",
    "#m.choropleth(geo_data=europe)\n",
    "#folium.LayerControl().add_to(m)\n",
    "m"
   ]
  },
  {
   "cell_type": "markdown",
   "metadata": {
    "colab_type": "text",
    "id": "8NGRV2ottliL"
   },
   "source": [
    "2)Just per canton"
   ]
  },
  {
   "cell_type": "markdown",
   "metadata": {
    "colab_type": "text",
    "id": "YUh0PiSLtliP"
   },
   "source": [
    "The data of the swiss cantons is collected from amstat.ch. We used the \"taux de chômage\" sorted by canton to get our data."
   ]
  },
  {
   "cell_type": "code",
   "execution_count": null,
   "metadata": {
    "colab": {
     "autoexec": {
      "startup": false,
      "wait_interval": 0
     }
    },
    "colab_type": "code",
    "collapsed": true,
    "id": "9r3_aJEmtliT"
   },
   "outputs": [],
   "source": [
    "dfCanton=pd.read_excel('rateSuisseCantons.xlsx')\n",
    "dfCanton.head()\n"
   ]
  },
  {
   "cell_type": "code",
   "execution_count": null,
   "metadata": {
    "colab": {
     "autoexec": {
      "startup": false,
      "wait_interval": 0
     }
    },
    "colab_type": "code",
    "collapsed": true,
    "id": "MHj-OHFVtlin"
   },
   "outputs": [],
   "source": [
    "#The data frame looks a bit wierd. We clean it up by removing the first row and second column.\n",
    "#We can see that the total column is the average af the past year.\n",
    "#We will use this number to do further analysis since this average eliminates seasonal trends.\n",
    "dfCanton=dfCanton[['Canton','Total']].iloc[1:]\n",
    "#Since each canton has an unique name we can index by canton\n",
    "dfCanton.set_index('Canton',drop=True,inplace=True,verify_integrity=True)\n",
    "dfCanton['Total']=dfCanton['Total'].astype(float) #Convert to float\n",
    "dfCanton.head()"
   ]
  },
  {
   "cell_type": "markdown",
   "metadata": {
    "colab_type": "text",
    "id": "AR0bxZrotli0"
   },
   "source": [
    "3) Include the information about suisse and foreign workers"
   ]
  },
  {
   "cell_type": "code",
   "execution_count": null,
   "metadata": {
    "colab": {
     "autoexec": {
      "startup": false,
      "wait_interval": 0
     }
    },
    "colab_type": "code",
    "collapsed": true,
    "id": "h8lE35rDtli3"
   },
   "outputs": [],
   "source": [
    "dfCantonForeign=pd.read_excel('rateSuisseForeigners.xlsx')\n",
    "dfCantonForeign.head()"
   ]
  },
  {
   "cell_type": "code",
   "execution_count": null,
   "metadata": {
    "colab": {
     "autoexec": {
      "startup": false,
      "wait_interval": 0
     }
    },
    "colab_type": "code",
    "collapsed": true,
    "id": "Y0V_DAQ1tljF"
   },
   "outputs": [],
   "source": [
    "#Same process as before but with hierachal index\n",
    "dfCantonForeign=dfCantonForeign[['Canton','Nationalité','Total']].iloc[1:]\n",
    "dfCantonForeign.set_index(['Canton','Nationalité'],drop=True,inplace=True,verify_integrity=True)\n",
    "dfCantonForeign[\"Total\"]=dfCantonForeign[\"Total\"].astype(float)\n",
    "dfCantonForeign.head()"
   ]
  },
  {
   "cell_type": "code",
   "execution_count": null,
   "metadata": {
    "colab": {
     "autoexec": {
      "startup": false,
      "wait_interval": 0
     }
    },
    "colab_type": "code",
    "collapsed": true,
    "id": "Xo0nK6PhtljT"
   },
   "outputs": [],
   "source": [
    "#For claas adressing is now easiliy done by\n",
    "dfCantonForeign.loc[(\"Zurich\",\"Etrangers\")]"
   ]
  },
  {
   "cell_type": "markdown",
   "metadata": {
    "colab_type": "text",
    "id": "ikzBCls5tlji"
   },
   "source": [
    "4) Now also with age categories"
   ]
  },
  {
   "cell_type": "code",
   "execution_count": null,
   "metadata": {
    "colab": {
     "autoexec": {
      "startup": false,
      "wait_interval": 0
     }
    },
    "colab_type": "code",
    "collapsed": true,
    "id": "dv_Rm_PNtljm"
   },
   "outputs": [],
   "source": [
    "#Same\n",
    "dfCantonAge=pd.read_excel('rateSuisseAge.xlsx')\n",
    "dfCantonAge.columns.values[1] = 'Agegroup'\n",
    "dfCantonAge=dfCantonAge[['Canton','Agegroup','Total']].iloc[1:]\n",
    "for index,agegroup in enumerate(dfCantonAge[\"Agegroup\"]):\n",
    "    #Remove the ans\n",
    "    cleaned=str(agegroup).split()[0]\n",
    "    if cleaned==\"60\":\n",
    "        cleaned=cleaned+\"+\"\n",
    "    dfCantonAge.iloc[index, dfCantonAge.columns.get_loc('Agegroup')]=cleaned\n",
    "    \n",
    "\n",
    "dfCantonAge.set_index(['Canton','Agegroup'],drop=True,inplace=True,verify_integrity=True)\n",
    "#In the datarame the unkown values are rplaced with ... \n",
    "#We replace the ... with NaN\n",
    "dfCantonAge.replace(\"...\",np.nan,inplace=True)\n",
    "dfCantonAge[\"Total\"]=dfCantonAge[\"Total\"].astype(float)\n",
    "\n",
    "\n",
    "dfCantonAge.head(15)\n"
   ]
  },
  {
   "cell_type": "code",
   "execution_count": null,
   "metadata": {
    "colab": {
     "autoexec": {
      "startup": false,
      "wait_interval": 0
     }
    },
    "colab_type": "code",
    "collapsed": true,
    "id": "pxamtgabtlj5"
   },
   "outputs": [],
   "source": [
    "test=\"55-59 ans\"\n",
    "test.split()[0]"
   ]
  },
  {
   "cell_type": "code",
   "execution_count": null,
   "metadata": {
    "colab": {
     "autoexec": {
      "startup": false,
      "wait_interval": 0
     }
    },
    "colab_type": "code",
    "collapsed": true,
    "id": "hWMWGFM3tlkO"
   },
   "outputs": [],
   "source": [
    "dfCantonAge.columns"
   ]
  },
  {
   "cell_type": "code",
   "execution_count": null,
   "metadata": {
    "colab": {
     "autoexec": {
      "startup": false,
      "wait_interval": 0
     }
    },
    "colab_type": "code",
    "collapsed": true,
    "id": "iucCa_-Ktlkc"
   },
   "outputs": [],
   "source": [
    "#Same process\n",
    "dfCantonAge=dfCantonAge[['Canton','Agegroup','Total']].iloc[1:]\n",
    "print(dfCantonAge.head())\n",
    "dfCantonAge.set_index(['Canton','Agegroup'],drop=True,inplace=True,verify_integrity=True)\n",
    "dfCantonAge[\"Total\"]=dfCantonAge[\"Total\"].astype(float)\n",
    "dfCantonAge.head()"
   ]
  },
  {
   "cell_type": "code",
   "execution_count": null,
   "metadata": {
    "colab": {
     "autoexec": {
      "startup": false,
      "wait_interval": 0
     }
    },
    "colab_type": "code",
    "collapsed": true,
    "id": "tso3WNe7tlkw"
   },
   "outputs": [],
   "source": []
  }
  {
   "cell_type": "code",
   "execution_count": 0,
   "metadata": {
    "colab": {
     "autoexec": {
      "startup": false,
      "wait_interval": 0
     }
    },
    "colab_type": "code",
    "collapsed": true,
    "id": "2qRfmW0Stlh3"
   },
   "outputs": [],
   "source": [
    "import pandas as pd\n",
    "import numpy as np"
   ]
  },
  {
   "cell_type": "markdown",
   "metadata": {
    "colab_type": "text",
    "id": "8NGRV2ottliL"
   },
   "source": [
    "2)Just per canton"
   ]
  },
  {
   "cell_type": "markdown",
   "metadata": {
    "colab_type": "text",
    "id": "YUh0PiSLtliP"
   },
   "source": [
    "The data of the swiss cantons is collected from amstat.ch. We used the \"taux de chômage\" sorted by canton to get our data."
   ]
  },
  {
   "cell_type": "code",
   "execution_count": 0,
   "metadata": {
    "colab": {
     "autoexec": {
      "startup": false,
      "wait_interval": 0
     }
    },
    "colab_type": "code",
    "collapsed": true,
    "id": "9r3_aJEmtliT"
   },
   "outputs": [],
   "source": [
    "dfCanton=pd.read_excel('rateSuisseCantons.xlsx')\n",
    "dfCanton.head()\n"
   ]
  },
  {
   "cell_type": "code",
   "execution_count": 0,
   "metadata": {
    "colab": {
     "autoexec": {
      "startup": false,
      "wait_interval": 0
     }
    },
    "colab_type": "code",
    "collapsed": true,
    "id": "MHj-OHFVtlin"
   },
   "outputs": [],
   "source": [
    "#The data frame looks a bit wierd. We clean it up by removing the first row and second column.\n",
    "#We can see that the total column is the average af the past year.\n",
    "#We will use this number to do further analysis since this average eliminates seasonal trends.\n",
    "dfCanton=dfCanton[['Canton','Total']].iloc[1:]\n",
    "#Since each canton has an unique name we can index by canton\n",
    "dfCanton.set_index('Canton',drop=True,inplace=True,verify_integrity=True)\n",
    "dfCanton['Total']=dfCanton['Total'].astype(float) #Convert to float\n",
    "dfCanton.head()"
   ]
  },
  {
   "cell_type": "markdown",
   "metadata": {
    "colab_type": "text",
    "id": "AR0bxZrotli0"
   },
   "source": [
    "3) Include the information about suisse and foreign workers"
   ]
  },
  {
   "cell_type": "code",
   "execution_count": 0,
   "metadata": {
    "colab": {
     "autoexec": {
      "startup": false,
      "wait_interval": 0
     }
    },
    "colab_type": "code",
    "collapsed": true,
    "id": "h8lE35rDtli3"
   },
   "outputs": [],
   "source": [
    "dfCantonForeign=pd.read_excel('rateSuisseForeigners.xlsx')\n",
    "dfCantonForeign.head()"
   ]
  },
  {
   "cell_type": "code",
   "execution_count": 0,
   "metadata": {
    "colab": {
     "autoexec": {
      "startup": false,
      "wait_interval": 0
     }
    },
    "colab_type": "code",
    "collapsed": true,
    "id": "Y0V_DAQ1tljF"
   },
   "outputs": [],
   "source": [
    "#Same process as before but with hierachal index\n",
    "dfCantonForeign=dfCantonForeign[['Canton','Nationalité','Total']].iloc[1:]\n",
    "dfCantonForeign.set_index(['Canton','Nationalité'],drop=True,inplace=True,verify_integrity=True)\n",
    "dfCantonForeign[\"Total\"]=dfCantonForeign[\"Total\"].astype(float)\n",
    "dfCantonForeign.head()"
   ]
  },
  {
   "cell_type": "code",
   "execution_count": 0,
   "metadata": {
    "colab": {
     "autoexec": {
      "startup": false,
      "wait_interval": 0
     }
    },
    "colab_type": "code",
    "collapsed": true,
    "id": "Xo0nK6PhtljT"
   },
   "outputs": [],
   "source": [
    "#For claas adressing is now easiliy done by\n",
    "dfCantonForeign.loc[(\"Zurich\",\"Etrangers\")]"
   ]
  },
  {
   "cell_type": "markdown",
   "metadata": {
    "colab_type": "text",
    "id": "ikzBCls5tlji"
   },
   "source": [
    "4) Now also with age categories"
   ]
  },
  {
   "cell_type": "code",
   "execution_count": 0,
   "metadata": {
    "colab": {
     "autoexec": {
      "startup": false,
      "wait_interval": 0
     }
    },
    "colab_type": "code",
    "collapsed": true,
    "id": "dv_Rm_PNtljm"
   },
   "outputs": [],
   "source": [
    "#Same\n",
    "dfCantonAge=pd.read_excel('rateSuisseAge.xlsx')\n",
    "dfCantonAge.columns.values[1] = 'Agegroup'\n",
    "dfCantonAge=dfCantonAge[['Canton','Agegroup','Total']].iloc[1:]\n",
    "for index,agegroup in enumerate(dfCantonAge[\"Agegroup\"]):\n",
    "    #Remove the ans\n",
    "    cleaned=str(agegroup).split()[0]\n",
    "    if cleaned==\"60\":\n",
    "        cleaned=cleaned+\"+\"\n",
    "    dfCantonAge.iloc[index, dfCantonAge.columns.get_loc('Agegroup')]=cleaned\n",
    "    \n",
    "\n",
    "dfCantonAge.set_index(['Canton','Agegroup'],drop=True,inplace=True,verify_integrity=True)\n",
    "#In the datarame the unkown values are rplaced with ... \n",
    "#We replace the ... with NaN\n",
    "dfCantonAge.replace(\"...\",np.nan,inplace=True)\n",
    "dfCantonAge[\"Total\"]=dfCantonAge[\"Total\"].astype(float)\n",
    "\n",
    "\n",
    "dfCantonAge.head(15)\n"
   ]
  },
  {
   "cell_type": "code",
   "execution_count": 0,
   "metadata": {
    "colab": {
     "autoexec": {
      "startup": false,
      "wait_interval": 0
     }
    },
    "colab_type": "code",
    "collapsed": true,
    "id": "pxamtgabtlj5"
   },
   "outputs": [],
   "source": [
    "test=\"55-59 ans\"\n",
    "test.split()[0]"
   ]
  },
  {
   "cell_type": "code",
   "execution_count": 0,
   "metadata": {
    "colab": {
     "autoexec": {
      "startup": false,
      "wait_interval": 0
     }
    },
    "colab_type": "code",
    "collapsed": true,
    "id": "hWMWGFM3tlkO"
   },
   "outputs": [],
   "source": [
    "dfCantonAge.columns"
   ]
  },
  {
   "cell_type": "code",
   "execution_count": 0,
   "metadata": {
    "colab": {
     "autoexec": {
      "startup": false,
      "wait_interval": 0
     }
    },
    "colab_type": "code",
    "collapsed": true,
    "id": "iucCa_-Ktlkc"
   },
   "outputs": [],
   "source": [
    "#Same process\n",
    "dfCantonAge=dfCantonAge[['Canton','Agegroup','Total']].iloc[1:]\n",
    "print(dfCantonAge.head())\n",
    "dfCantonAge.set_index(['Canton','Agegroup'],drop=True,inplace=True,verify_integrity=True)\n",
    "dfCantonAge[\"Total\"]=dfCantonAge[\"Total\"].astype(float)\n",
    "dfCantonAge.head()"
   ]
  },
  {
   "cell_type": "code",
   "execution_count": 0,
   "metadata": {
    "colab": {
     "autoexec": {
      "startup": false,
      "wait_interval": 0
     }
    },
    "colab_type": "code",
    "collapsed": true,
    "id": "tso3WNe7tlkw"
   },
 ],
 "metadata": {
  "colab": {
   "collapsed_sections": [],
   "default_view": {},
   "name": "task3_claas.ipynb",
   "provenance": [],
   "version": "0.3.2",
   "views": {}
  },
  "kernelspec": {
   "display_name": "Python 3",
   "language": "python",
   "name": "python3"
  },
  "language_info": {
   "codemirror_mode": {
    "name": "ipython",
    "version": 3
   },
   "file_extension": ".py",
   "mimetype": "text/x-python",
   "name": "python",
   "nbconvert_exporter": "python",
   "pygments_lexer": "ipython3",
   "version": "3.6.3"
  }
 },
 "nbformat": 4,
 "nbformat_minor": 1
}
