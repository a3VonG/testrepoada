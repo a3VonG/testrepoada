{
 "cells": [
  {
   "cell_type": "code",
   "execution_count": 0,
   "metadata": {
    "colab": {
     "autoexec": {
      "startup": false,
      "wait_interval": 0
     }
    },
    "colab_type": "code",
    "collapsed": true,
    "id": "2qRfmW0Stlh3"
   },
   "outputs": [],
   "source": [
    "import pandas as pd\n",
    "import numpy as np"
   ]
  },
  {
   "cell_type": "markdown",
   "metadata": {
    "colab_type": "text",
    "id": "8NGRV2ottliL"
   },
   "source": [
    "2)Just per canton"
   ]
  },
  {
   "cell_type": "markdown",
   "metadata": {
    "colab_type": "text",
    "id": "YUh0PiSLtliP"
   },
   "source": [
    "The data of the swiss cantons is collected from amstat.ch. We used the \"taux de chômage\" sorted by canton to get our data."
   ]
  },
  {
   "cell_type": "code",
   "execution_count": 0,
   "metadata": {
    "colab": {
     "autoexec": {
      "startup": false,
      "wait_interval": 0
     }
    },
    "colab_type": "code",
    "collapsed": true,
    "id": "9r3_aJEmtliT"
   },
   "outputs": [],
   "source": [
    "dfCanton=pd.read_excel('rateSuisseCantons.xlsx')\n",
    "dfCanton.head()\n"
   ]
  },
  {
   "cell_type": "code",
   "execution_count": 0,
   "metadata": {
    "colab": {
     "autoexec": {
      "startup": false,
      "wait_interval": 0
     }
    },
    "colab_type": "code",
    "collapsed": true,
    "id": "MHj-OHFVtlin"
   },
   "outputs": [],
   "source": [
    "#The data frame looks a bit wierd. We clean it up by removing the first row and second column.\n",
    "#We can see that the total column is the average af the past year.\n",
    "#We will use this number to do further analysis since this average eliminates seasonal trends.\n",
    "dfCanton=dfCanton[['Canton','Total']].iloc[1:]\n",
    "#Since each canton has an unique name we can index by canton\n",
    "dfCanton.set_index('Canton',drop=True,inplace=True,verify_integrity=True)\n",
    "dfCanton['Total']=dfCanton['Total'].astype(float) #Convert to float\n",
    "dfCanton.head()"
   ]
  },
  {
   "cell_type": "markdown",
   "metadata": {
    "colab_type": "text",
    "id": "AR0bxZrotli0"
   },
   "source": [
    "3) Include the information about suisse and foreign workers"
   ]
  },
  {
   "cell_type": "code",
   "execution_count": 0,
   "metadata": {
    "colab": {
     "autoexec": {
      "startup": false,
      "wait_interval": 0
     }
    },
    "colab_type": "code",
    "collapsed": true,
    "id": "h8lE35rDtli3"
   },
   "outputs": [],
   "source": [
    "dfCantonForeign=pd.read_excel('rateSuisseForeigners.xlsx')\n",
    "dfCantonForeign.head()"
   ]
  },
  {
   "cell_type": "code",
   "execution_count": 0,
   "metadata": {
    "colab": {
     "autoexec": {
      "startup": false,
      "wait_interval": 0
     }
    },
    "colab_type": "code",
    "collapsed": true,
    "id": "Y0V_DAQ1tljF"
   },
   "outputs": [],
   "source": [
    "#Same process as before but with hierachal index\n",
    "dfCantonForeign=dfCantonForeign[['Canton','Nationalité','Total']].iloc[1:]\n",
    "dfCantonForeign.set_index(['Canton','Nationalité'],drop=True,inplace=True,verify_integrity=True)\n",
    "dfCantonForeign[\"Total\"]=dfCantonForeign[\"Total\"].astype(float)\n",
    "dfCantonForeign.head()"
   ]
  },
  {
   "cell_type": "code",
   "execution_count": 0,
   "metadata": {
    "colab": {
     "autoexec": {
      "startup": false,
      "wait_interval": 0
     }
    },
    "colab_type": "code",
    "collapsed": true,
    "id": "Xo0nK6PhtljT"
   },
   "outputs": [],
   "source": [
    "#For claas adressing is now easiliy done by\n",
    "dfCantonForeign.loc[(\"Zurich\",\"Etrangers\")]"
   ]
  },
  {
   "cell_type": "markdown",
   "metadata": {
    "colab_type": "text",
    "id": "ikzBCls5tlji"
   },
   "source": [
    "4) Now also with age categories"
   ]
  },
  {
   "cell_type": "code",
   "execution_count": 0,
   "metadata": {
    "colab": {
     "autoexec": {
      "startup": false,
      "wait_interval": 0
     }
    },
    "colab_type": "code",
    "collapsed": true,
    "id": "dv_Rm_PNtljm"
   },
   "outputs": [],
   "source": [
    "#Same\n",
    "dfCantonAge=pd.read_excel('rateSuisseAge.xlsx')\n",
    "dfCantonAge.columns.values[1] = 'Agegroup'\n",
    "dfCantonAge=dfCantonAge[['Canton','Agegroup','Total']].iloc[1:]\n",
    "for index,agegroup in enumerate(dfCantonAge[\"Agegroup\"]):\n",
    "    #Remove the ans\n",
    "    cleaned=str(agegroup).split()[0]\n",
    "    if cleaned==\"60\":\n",
    "        cleaned=cleaned+\"+\"\n",
    "    dfCantonAge.iloc[index, dfCantonAge.columns.get_loc('Agegroup')]=cleaned\n",
    "    \n",
    "\n",
    "dfCantonAge.set_index(['Canton','Agegroup'],drop=True,inplace=True,verify_integrity=True)\n",
    "#In the datarame the unkown values are rplaced with ... \n",
    "#We replace the ... with NaN\n",
    "dfCantonAge.replace(\"...\",np.nan,inplace=True)\n",
    "dfCantonAge[\"Total\"]=dfCantonAge[\"Total\"].astype(float)\n",
    "\n",
    "\n",
    "dfCantonAge.head(15)\n"
   ]
  },
  {
   "cell_type": "code",
   "execution_count": 0,
   "metadata": {
    "colab": {
     "autoexec": {
      "startup": false,
      "wait_interval": 0
     }
    },
    "colab_type": "code",
    "collapsed": true,
    "id": "pxamtgabtlj5"
   },
   "outputs": [],
   "source": [
    "test=\"55-59 ans\"\n",
    "test.split()[0]"
   ]
  },
  {
   "cell_type": "code",
   "execution_count": 0,
   "metadata": {
    "colab": {
     "autoexec": {
      "startup": false,
      "wait_interval": 0
     }
    },
    "colab_type": "code",
    "collapsed": true,
    "id": "hWMWGFM3tlkO"
   },
   "outputs": [],
   "source": [
    "dfCantonAge.columns"
   ]
  },
  {
   "cell_type": "code",
   "execution_count": 0,
   "metadata": {
    "colab": {
     "autoexec": {
      "startup": false,
      "wait_interval": 0
     }
    },
    "colab_type": "code",
    "collapsed": true,
    "id": "iucCa_-Ktlkc"
   },
   "outputs": [],
   "source": [
    "#Same process\n",
    "dfCantonAge=dfCantonAge[['Canton','Agegroup','Total']].iloc[1:]\n",
    "print(dfCantonAge.head())\n",
    "dfCantonAge.set_index(['Canton','Agegroup'],drop=True,inplace=True,verify_integrity=True)\n",
    "dfCantonAge[\"Total\"]=dfCantonAge[\"Total\"].astype(float)\n",
    "dfCantonAge.head()"
   ]
  },
  {
   "cell_type": "code",
   "execution_count": 0,
   "metadata": {
    "colab": {
     "autoexec": {
      "startup": false,
      "wait_interval": 0
     }
    },
    "colab_type": "code",
    "collapsed": true,
    "id": "tso3WNe7tlkw"
   },
   "outputs": [],
   "source": []
  }
 ],
 "metadata": {
  "colab": {
   "collapsed_sections": [],
   "default_view": {},
   "name": "swiss dataframes.ipynb",
   "provenance": [],
   "version": "0.3.2",
   "views": {}
  },
  "kernelspec": {
   "display_name": "Python 3",
   "language": "python",
   "name": "python3"
  },
  "language_info": {
   "codemirror_mode": {
    "name": "ipython",
    "version": 3
   },
   "file_extension": ".py",
   "mimetype": "text/x-python",
   "name": "python",
   "nbconvert_exporter": "python",
   "pygments_lexer": "ipython3",
   "version": "3.6.3"
  }
 },
 "nbformat": 4,
 "nbformat_minor": 1
}
