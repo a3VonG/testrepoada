{
 "cells": [
  {
   "cell_type": "code",
   "execution_count": 1,
   "metadata": {},
   "outputs": [
    {
     "name": "stderr",
     "output_type": "stream",
     "text": [
      "/Users/adriaan/anaconda/lib/python3.6/site-packages/IPython/html.py:14: ShimWarning: The `IPython.html` package has been deprecated since IPython 4.0. You should import from `notebook` instead. `IPython.html.widgets` has moved to `ipywidgets`.\n",
      "  \"`IPython.html.widgets` has moved to `ipywidgets`.\", ShimWarning)\n"
     ]
    },
    {
     "data": {
      "application/vnd.jupyter.widget-view+json": {
       "model_id": "21196d8a238748a8ad774b6f3732bd33"
      }
     },
     "metadata": {},
     "output_type": "display_data"
    },
    {
     "data": {
      "text/plain": [
       "<function __main__.create_map>"
      ]
     },
     "execution_count": 1,
     "metadata": {},
     "output_type": "execute_result"
    }
   ],
   "source": [
    "import pandas as pd\n",
    "import numpy as np\n",
    "import os\n",
    "import matplotlib.pyplot as plt\n",
    "from scipy.stats import norm\n",
    "import seaborn as sns\n",
    "from geopy import Nominatim\n",
    "import base64\n",
    "from IPython.html.widgets import interact #Needed for interactive graph\n",
    "#from pygeocoder import geocoder\n",
    "import folium\n",
    "import json\n",
    "mappingDict={'Zürich': 'Zürich', 'Bern': 'Bern', 'Luzern': 'Luzern', 'Uri': 'Uri', 'Schwyz': 'Schwyz', 'Obwalden': 'Obwalden', 'Nidwalden': 'Nidwalden', 'Glarus': 'Glarus', 'Zug': 'Zug', 'Freiburg': 'Fribourg/Freiburg', 'Solothurn': 'Solothurn', 'Basel-Stadt': 'Basel-Stadt', 'Basel-Landschaft': 'Basel-Landschaft', 'Schaffhausen': 'Schaffhausen', 'Appenzell Ausserrhoden': 'Appenzel', 'Appenzell Innerrhoden': 'Appenzel', 'St. Gallen': 'St', 'Graubünden': 'Graubünden/Grigioni/Grischun', 'Aargau': 'Aargau', 'Thurgau': 'Thurgau', 'Tessin': 'Ticino', 'Waadt': 'Vaud', 'Wallis': 'Valais/Wallis', 'Neuenburg': 'Neuchâtel', 'Genf': 'Genève', 'Jura': 'Jura'}\n",
    "#Replace some manually\n",
    "mappingDict['Appenzell Ausserrhoden']='Appenzell Ausserrhoden'\n",
    "mappingDict['Appenzell Innerrhoden']='Appenzell Innerrhoden'\n",
    "mappingDict['Freiburg']= 'Fribourg'\n",
    "mappingDict['Graubünden']='Graubünden/Grigioni'\n",
    "mappingDict['St. Gallen']='St. Gallen'\n",
    "mappingDict['Bern']='Bern/Berne'\n",
    "beginLocation=[46.911492, 8.090388]\n",
    "beginZoom=7\n",
    "dfCantonAge=pd.read_excel('rateSuisseCantonAgeGerman.xlsx')\n",
    "dfCantonAge.columns.values[1] = 'Agegroup'\n",
    "dfCantonAge=dfCantonAge[['Kanton','Agegroup','Gesamt']].iloc[1:-1]\n",
    "for index,agegroup in enumerate(dfCantonAge[\"Agegroup\"]):\n",
    "    #Remove the ans\n",
    "    cleaned=str(agegroup).split()[0]\n",
    "    if cleaned==\"60\":\n",
    "        cleaned=cleaned+\"+\"\n",
    "    dfCantonAge.iloc[index, dfCantonAge.columns.get_loc('Agegroup')]=cleaned\n",
    "#In the datarame the unkown values are replaced with ... \n",
    "#We replace the ... with NaN\n",
    "dfCantonAge.replace(\"...\",np.nan,inplace=True)\n",
    "dfCantonAge[\"Gesamt\"]=dfCantonAge[\"Gesamt\"].astype(float)\n",
    "dfCantonAge.columns=[\"Canton\",\"Agegroup\",\"Unemployement\"]\n",
    "for index,name in enumerate(dfCantonAge[\"Canton\"]):\n",
    "    dfCantonAge.iloc[index, dfCantonAge.columns.get_loc('Canton')] = mappingDict[name]\n",
    "dfCantonAge.head(15)\n",
    "\n"
   ]
  },
  {
   "cell_type": "code",
   "execution_count": null,
   "metadata": {
    "collapsed": true
   },
   "outputs": [],
   "source": []
  }
 ],
 "metadata": {
  "kernelspec": {
   "display_name": "Python 3",
   "language": "python",
   "name": "python3"
  },
  "language_info": {
   "codemirror_mode": {
    "name": "ipython",
    "version": 3
   },
   "file_extension": ".py",
   "mimetype": "text/x-python",
   "name": "python",
   "nbconvert_exporter": "python",
   "pygments_lexer": "ipython3",
   "version": "3.6.1"
  }
 },
 "nbformat": 4,
 "nbformat_minor": 2
}
